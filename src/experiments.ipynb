{
 "cells": [
  {
   "cell_type": "code",
   "execution_count": 1,
   "metadata": {},
   "outputs": [],
   "source": [
    "%load_ext autoreload\n",
    "%autoreload 2"
   ]
  },
  {
   "cell_type": "code",
   "execution_count": 2,
   "metadata": {},
   "outputs": [],
   "source": [
    "from ensembles import RandomForestMSE\n",
    "import numpy as np\n",
    "\n",
    "from sklearn.datasets import make_regression\n",
    "from sklearn.linear_model import LinearRegression\n",
    "from sklearn.model_selection import train_test_split\n",
    "from sklearn.metrics import mean_squared_error\n",
    "from sklearn.tree import DecisionTreeRegressor\n",
    "from sklearn.ensemble import RandomForestRegressor\n",
    "\n",
    "import matplotlib.pyplot as plt"
   ]
  },
  {
   "cell_type": "code",
   "execution_count": 3,
   "metadata": {},
   "outputs": [
    {
     "data": {
      "image/png": "[encoded data removed]",
      "text/plain": [
       "<Figure size 432x288 with 1 Axes>"
      ]
     },
     "metadata": {
      "needs_background": "light"
     },
     "output_type": "display_data"
    }
   ],
   "source": [
    "X, y = make_regression(n_samples=1000, n_features=12, n_informative=10, noise=1, random_state=239)\n",
    "X_train, X_test, y_train, y_test = train_test_split(X, y, test_size=0.33, random_state=239, shuffle=True)\n",
    "plt.scatter(X[:, 2], y)\n",
    "plt.show()"
   ]
  },
  {
   "cell_type": "code",
   "execution_count": 4,
   "metadata": {},
   "outputs": [],
   "source": [
    "X_train, X_test, y_train, y_test = train_test_split(X, y, test_size=0.33, random_state=239, shuffle=True)"
   ]
  },
  {
   "cell_type": "code",
   "execution_count": 5,
   "metadata": {},
   "outputs": [
    {
     "data": {
      "text/plain": [
       "0.9867754923626373"
      ]
     },
     "execution_count": 5,
     "metadata": {},
     "output_type": "execute_result"
    }
   ],
   "source": [
    "clf = LinearRegression()\n",
    "clf.fit(X_train, y_train)\n",
    "y_pred = clf.predict(X_test)\n",
    "mean_squared_error(y_test, y_pred)**0.5"
   ]
  },
  {
   "cell_type": "code",
   "execution_count": 6,
   "metadata": {},
   "outputs": [
    {
     "data": {
      "text/plain": [
       "168.76474387877008"
      ]
     },
     "execution_count": 6,
     "metadata": {},
     "output_type": "execute_result"
    }
   ],
   "source": [
    "clf = DecisionTreeRegressor()\n",
    "clf.fit(X_train, y_train)\n",
    "y_pred = clf.predict(X_test)\n",
    "mean_squared_error(y_test, y_pred)**0.5"
   ]
  },
  {
   "cell_type": "code",
   "execution_count": 7,
   "metadata": {},
   "outputs": [
    {
     "data": {
      "text/plain": [
       "167.9369290377807"
      ]
     },
     "execution_count": 7,
     "metadata": {},
     "output_type": "execute_result"
    }
   ],
   "source": [
    "clf = RandomForestMSE(n_estimators=1500)\n",
    "clf.fit(X_train, y_train)\n",
    "y_pred = clf.predict(X_test)\n",
    "mean_squared_error(y_test, y_pred)**0.5"
   ]
  },
  {
   "cell_type": "code",
   "execution_count": 8,
   "metadata": {},
   "outputs": [
    {
     "data": {
      "text/plain": [
       "143.69194840860678"
      ]
     },
     "execution_count": 8,
     "metadata": {},
     "output_type": "execute_result"
    }
   ],
   "source": [
    "clf = RandomForestRegressor(n_estimators=500, max_depth=4)\n",
    "clf.fit(X_train, y_train)\n",
    "y_pred = clf.predict(X_test)\n",
    "mean_squared_error(y_test, y_pred)**0.5"
   ]
  },
  {
   "cell_type": "code",
   "execution_count": 9,
   "metadata": {},
   "outputs": [],
   "source": [
    "def compute_biase_variance(regressor, X, y, num_runs=100):\n",
    "    \"\"\"\n",
    "    :param regressor: sklearn estimator with fit(...) and predict(...) method\n",
    "    :param X: numpy-array representing training set ob objects, shape [n_obj, n_feat]\n",
    "    :param y: numpy-array representing target for training objects, shape [n_obj]\n",
    "    :param num_runs: int, number of samples (s in the description of the algorithm)\n",
    "    \n",
    "    :returns: bias (float), variance (float), error (float) \n",
    "    each value is computed using bootstrap\n",
    "    \"\"\"\n",
    "\n",
    "    y_pred = np.zeros((num_runs, y.shape[0]))\n",
    "\n",
    "    for i in range(num_runs):\n",
    "        idx = np.random.randint(0, X.shape[0], X.shape[0])\n",
    "        idx_j = ~(np.isin(X, X[idx])[:, 0].reshape(-1))\n",
    "\n",
    "        regressor.fit(X[idx], y[idx])\n",
    "        y_pred_i = regressor.predict(X[idx_j])\n",
    "        \n",
    "        y_pred[i, idx_j] = y_pred_i\n",
    "\n",
    "\n",
    "    sum_y_pred = y_pred.sum(axis=0)\n",
    "    sum_y_pred_count = (y_pred != 0).astype(int).sum(axis=0)\n",
    "    mean_y_pred = sum_y_pred[sum_y_pred != 0] / sum_y_pred_count[sum_y_pred_count != 0]\n",
    "    \n",
    "    bias = np.mean((mean_y_pred - y)**2)\n",
    "    variance = np.mean(np.mean((y_pred[y_pred != 0] - (np.ones_like(y_pred) * mean_y_pred)[y_pred != 0])**2, axis=0))\n",
    "    error = np.mean(np.mean((y_pred[y_pred != 0] - (np.ones_like(y_pred) * y)[y_pred != 0])**2, axis=0))\n",
    "\n",
    "    return bias, variance, error"
   ]
  },
  {
   "cell_type": "code",
   "execution_count": 10,
   "metadata": {},
   "outputs": [
    {
     "data": {
      "text/plain": [
       "(9039.12489518585, 18645.11768175831, 27632.439596098393)"
      ]
     },
     "execution_count": 10,
     "metadata": {},
     "output_type": "execute_result"
    }
   ],
   "source": [
    "compute_biase_variance(DecisionTreeRegressor(), X, y)"
   ]
  },
  {
   "cell_type": "code",
   "execution_count": 130,
   "metadata": {},
   "outputs": [
    {
     "name": "stdout",
     "output_type": "stream",
     "text": [
      "DecisionTreeRegressor:\n",
      "bias: 9168.228744115095, variance: 18817.288138967062, error: 27989.138767125958\n",
      "\n",
      "RandomForestMSE:\n",
      "bias: 22466.914818447713, variance: 16.457194982679923, error: 22481.371714348326\n",
      "\n",
      "RandomForestRegressor:\n",
      "bias: 17403.615510639138, variance: 1684.2333231207542, error: 18875.344112422234\n",
      "\n"
     ]
    }
   ],
   "source": [
    "bias, variance, error = compute_biase_variance(DecisionTreeRegressor(), X, y)\n",
    "print(f'DecisionTreeRegressor:\\nbias: {bias}, variance: {variance}, error: {error}\\n')\n",
    "\n",
    "bias, variance, error = compute_biase_variance(RandomForestMSE(max_depth=4), X, y)\n",
    "print(f'RandomForestMSE:\\nbias: {bias}, variance: {variance}, error: {error}\\n')\n",
    "\n",
    "bias, variance, error = compute_biase_variance(RandomForestRegressor(max_depth=4), X, y)\n",
    "print(f'RandomForestRegressor:\\nbias: {bias}, variance: {variance}, error: {error}\\n')"
   ]
  }
 ],
 "metadata": {
  "interpreter": {
   "hash": "07b4084df705f0d7889433a1eb7130622e8c8999c6ea52d8d2708c93d78197b1"
  },
  "kernelspec": {
   "display_name": "Python 3.7.6 64-bit ('base': conda)",
   "language": "python",
   "name": "python3"
  },
  "language_info": {
   "codemirror_mode": {
    "name": "ipython",
    "version": 3
   },
   "file_extension": ".py",
   "mimetype": "text/x-python",
   "name": "python",
   "nbconvert_exporter": "python",
   "pygments_lexer": "ipython3",
   "version": "3.7.6"
  },
  "orig_nbformat": 4
 },
 "nbformat": 4,
 "nbformat_minor": 2
}
